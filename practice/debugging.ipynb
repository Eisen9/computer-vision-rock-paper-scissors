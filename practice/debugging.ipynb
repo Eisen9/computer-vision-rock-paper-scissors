{
 "cells": [
  {
   "cell_type": "markdown",
   "metadata": {},
   "source": [
    "## Learning Objectives\n",
    "- Learn how to interpret error messages thrown by Python.\n",
    "- Understand the most common bugs you might find.\n",
    "- Learn some debugging techniques.\n",
    "- Learn the most common errors in Python and their solutions.\n",
    "- Learn how to read errors in the console. \n",
    "- Learn how to use the debugger."
   ]
  },
  {
   "cell_type": "code",
   "execution_count": 1,
   "metadata": {},
   "outputs": [
    {
     "name": "stdout",
     "output_type": "stream",
     "text": [
      "--2022-11-09 13:25:49--  https://aicore-files.s3.amazonaws.com/Foundations/Python_Programming/example.py\n",
      "Resolving aicore-files.s3.amazonaws.com (aicore-files.s3.amazonaws.com)... 52.217.205.17\n",
      "Connecting to aicore-files.s3.amazonaws.com (aicore-files.s3.amazonaws.com)|52.217.205.17|:443... connected.\n",
      "HTTP request sent, awaiting response... 200 OK\n",
      "Length: 142 [text/x-python]\n",
      "Saving to: 'example.py'\n",
      "\n",
      "example.py          100%[===================>]     142  --.-KB/s    in 0.004s  \n",
      "\n",
      "2022-11-09 13:25:50 (38.7 KB/s) - 'example.py' saved [142/142]\n",
      "\n"
     ]
    }
   ],
   "source": [
    "!wget https://aicore-files.s3.amazonaws.com/Foundations/Python_Programming/example.py"
   ]
  },
  {
   "cell_type": "code",
   "execution_count": 1,
   "metadata": {},
   "outputs": [
    {
     "name": "stdout",
     "output_type": "stream",
     "text": [
      "3\n",
      "7\n"
     ]
    }
   ],
   "source": [
    "class A:\n",
    "    def __init__(self, num):\n",
    "        num = 3\n",
    "        self.num = num\n",
    "    def change(self):\n",
    "        self.num = 7\n",
    "\n",
    "a = A(5)\n",
    "print(a.num)\n",
    "a.change()\n",
    "print(a.num)"
   ]
  },
  {
   "cell_type": "code",
   "execution_count": null,
   "metadata": {},
   "outputs": [],
   "source": []
  }
 ],
 "metadata": {
  "kernelspec": {
   "display_name": "Python 3.9.5 64-bit",
   "language": "python",
   "name": "python3"
  },
  "language_info": {
   "codemirror_mode": {
    "name": "ipython",
    "version": 3
   },
   "file_extension": ".py",
   "mimetype": "text/x-python",
   "name": "python",
   "nbconvert_exporter": "python",
   "pygments_lexer": "ipython3",
   "version": "3.9.5"
  },
  "orig_nbformat": 4,
  "vscode": {
   "interpreter": {
    "hash": "aee8b7b246df8f9039afb4144a1f6fd8d2ca17a180786b69acc140d282b71a49"
   }
  }
 },
 "nbformat": 4,
 "nbformat_minor": 2
}
